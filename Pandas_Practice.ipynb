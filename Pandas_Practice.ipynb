{
 "cells": [
  {
   "cell_type": "code",
   "execution_count": 19,
   "id": "dbcc5010-a479-44be-95e5-8e17474129da",
   "metadata": {},
   "outputs": [
    {
     "name": "stdout",
     "output_type": "stream",
     "text": [
      "    Name  Age         City\n",
      "0   John   25     New York\n",
      "1  Alice   30  Los Angeles\n",
      "2    Bob   22      Chicago\n"
     ]
    }
   ],
   "source": [
    "import pandas as pd\n",
    "\n",
    "# Dictionary of data\n",
    "data = {\n",
    "    'Name': ['John', 'Alice', 'Bob'],\n",
    "    'Age': [25, 30, 22],\n",
    "    'City': ['New York', 'Los Angeles', 'Chicago']\n",
    "}\n",
    "\n",
    "# DataFrame\n",
    "df = pd.DataFrame(data)\n",
    "\n",
    "print(df)"
   ]
  },
  {
   "cell_type": "code",
   "execution_count": 20,
   "id": "edf65fdc-fc8f-413c-b3de-3ac234089f19",
   "metadata": {},
   "outputs": [
    {
     "name": "stdout",
     "output_type": "stream",
     "text": [
      "    Name  Age         City\n",
      "0   John   25     New York\n",
      "1  Alice   30  Los Angeles\n",
      "2    Bob   22      Chicago\n"
     ]
    }
   ],
   "source": [
    "# Data\n",
    "data = [\n",
    "    ['John', 25, 'New York'],\n",
    "    ['Alice', 30, 'Los Angeles'],\n",
    "    ['Bob', 22, 'Chicago']\n",
    "]\n",
    "\n",
    "# Column names\n",
    "columns = ['Name', 'Age', 'City']\n",
    "\n",
    "# DataFrame\n",
    "df = pd.DataFrame(data, columns=columns)\n",
    "\n",
    "print(df)"
   ]
  },
  {
   "cell_type": "code",
   "execution_count": 21,
   "id": "d43b4bd9-c809-4a8a-8298-671d19aad407",
   "metadata": {},
   "outputs": [
    {
     "name": "stdout",
     "output_type": "stream",
     "text": [
      "       Year Industry_aggregation_NZSIOC Industry_code_NZSIOC  \\\n",
      "0      2023                     Level 1                99999   \n",
      "1      2023                     Level 1                99999   \n",
      "2      2023                     Level 1                99999   \n",
      "3      2023                     Level 1                99999   \n",
      "4      2023                     Level 1                99999   \n",
      "...     ...                         ...                  ...   \n",
      "50980  2013                     Level 3                 ZZ11   \n",
      "50981  2013                     Level 3                 ZZ11   \n",
      "50982  2013                     Level 3                 ZZ11   \n",
      "50983  2013                     Level 3                 ZZ11   \n",
      "50984  2013                     Level 3                 ZZ11   \n",
      "\n",
      "             Industry_name_NZSIOC               Units Variable_code  \\\n",
      "0                  All industries  Dollars (millions)           H01   \n",
      "1                  All industries  Dollars (millions)           H04   \n",
      "2                  All industries  Dollars (millions)           H05   \n",
      "3                  All industries  Dollars (millions)           H07   \n",
      "4                  All industries  Dollars (millions)           H08   \n",
      "...                           ...                 ...           ...   \n",
      "50980  Food product manufacturing          Percentage           H37   \n",
      "50981  Food product manufacturing          Percentage           H38   \n",
      "50982  Food product manufacturing          Percentage           H39   \n",
      "50983  Food product manufacturing          Percentage           H40   \n",
      "50984  Food product manufacturing          Percentage           H41   \n",
      "\n",
      "                                         Variable_name      Variable_category  \\\n",
      "0                                         Total income  Financial performance   \n",
      "1      Sales, government funding, grants and subsidies  Financial performance   \n",
      "2                    Interest, dividends and donations  Financial performance   \n",
      "3                                 Non-operating income  Financial performance   \n",
      "4                                    Total expenditure  Financial performance   \n",
      "...                                                ...                    ...   \n",
      "50980                                      Quick ratio       Financial ratios   \n",
      "50981              Margin on sales of goods for resale       Financial ratios   \n",
      "50982                                 Return on equity       Financial ratios   \n",
      "50983                           Return on total assets       Financial ratios   \n",
      "50984                            Liabilities structure       Financial ratios   \n",
      "\n",
      "        Value                             Industry_code_ANZSIC06  \n",
      "0      930995  ANZSIC06 divisions A-S (excluding classes K633...  \n",
      "1      821630  ANZSIC06 divisions A-S (excluding classes K633...  \n",
      "2       84354  ANZSIC06 divisions A-S (excluding classes K633...  \n",
      "3       25010  ANZSIC06 divisions A-S (excluding classes K633...  \n",
      "4      832964  ANZSIC06 divisions A-S (excluding classes K633...  \n",
      "...       ...                                                ...  \n",
      "50980      52  ANZSIC06 groups C111, C112, C113, C114, C115, ...  \n",
      "50981      40  ANZSIC06 groups C111, C112, C113, C114, C115, ...  \n",
      "50982      12  ANZSIC06 groups C111, C112, C113, C114, C115, ...  \n",
      "50983       5  ANZSIC06 groups C111, C112, C113, C114, C115, ...  \n",
      "50984      46  ANZSIC06 groups C111, C112, C113, C114, C115, ...  \n",
      "\n",
      "[50985 rows x 10 columns]\n"
     ]
    }
   ],
   "source": [
    "# Load data from CSV file\n",
    "df = pd.read_csv('annual-enterprise-survey-2023-financial-year-provisional.csv')\n",
    "\n",
    "print(df)"
   ]
  },
  {
   "cell_type": "code",
   "execution_count": 22,
   "id": "90890254-6b7f-45c6-a8f4-bd288b944904",
   "metadata": {},
   "outputs": [
    {
     "name": "stdout",
     "output_type": "stream",
     "text": [
      "   A  B  C\n",
      "0  1  2  3\n",
      "1  4  5  6\n",
      "2  7  8  9\n"
     ]
    }
   ],
   "source": [
    "import numpy as np\n",
    "# Data\n",
    "data = np.array([[1, 2, 3], [4, 5, 6], [7, 8, 9]])\n",
    "\n",
    "# Column names\n",
    "columns = ['A', 'B', 'C']\n",
    "\n",
    "# DataFrame\n",
    "df = pd.DataFrame(data, columns=columns)\n",
    "\n",
    "print(df)"
   ]
  },
  {
   "cell_type": "code",
   "execution_count": 23,
   "id": "4bc55373-3f56-474a-92ed-78d8be0a8f22",
   "metadata": {},
   "outputs": [
    {
     "name": "stdout",
     "output_type": "stream",
     "text": [
      "            Subject  Marks\n",
      "Student1       Math     95\n",
      "Student2    Physics     89\n",
      "Student3  Chemistry     92\n"
     ]
    }
   ],
   "source": [
    "# Data\n",
    "data = {\n",
    "    'Subject': ['Math', 'Physics', 'Chemistry'],\n",
    "    'Marks': [95, 89, 92]\n",
    "}\n",
    "\n",
    "# Custom Index\n",
    "df = pd.DataFrame(data, index=['Student1', 'Student2', 'Student3'])\n",
    "\n",
    "print(df)"
   ]
  },
  {
   "cell_type": "code",
   "execution_count": 24,
   "id": "cb40926a-3bfd-4573-b9e0-ca37539ea3e8",
   "metadata": {},
   "outputs": [],
   "source": [
    "import pandas as pd\n",
    "import numpy as np\n",
    "from sklearn.preprocessing import LabelEncoder,StandardScaler\n",
    "from sklearn.impute import SimpleImputer"
   ]
  },
  {
   "cell_type": "raw",
   "id": "0d111d71-85f0-46a5-b22a-b718e29a6306",
   "metadata": {},
   "source": [
    "data = {\n",
    "      'Age': [22,np.nan,24,30,25]\n",
    "      'Salary' : [50000 , 60000, np.nan , 70000 , 65000]\n",
    "      'Country' : ['USA' , 'Canada' , 'USA' , 'Canada', np.nan]\n",
    "      'Gender' : ['Male' , 'Female' , 'Male' , 'Female' , 'Female']\n",
    "       }"
   ]
  },
  {
   "cell_type": "code",
   "execution_count": 25,
   "id": "ed4092b3-617b-4001-9e1b-7cfc4277fc7d",
   "metadata": {},
   "outputs": [
    {
     "name": "stdout",
     "output_type": "stream",
     "text": [
      "Original DataFrame:\n",
      "     Subject  Marks\n",
      "0       Math     95\n",
      "1    Physics     89\n",
      "2  Chemistry     92\n"
     ]
    }
   ],
   "source": [
    "df = pd.DataFrame(data)\n",
    "print(\"Original DataFrame:\")\n",
    "print(df)"
   ]
  },
  {
   "cell_type": "code",
   "execution_count": null,
   "id": "fe118255-f936-4fef-8ec4-802ad16a1b6b",
   "metadata": {},
   "outputs": [],
   "source": []
  }
 ],
 "metadata": {
  "kernelspec": {
   "display_name": "Python 3 (ipykernel)",
   "language": "python",
   "name": "python3"
  },
  "language_info": {
   "codemirror_mode": {
    "name": "ipython",
    "version": 3
   },
   "file_extension": ".py",
   "mimetype": "text/x-python",
   "name": "python",
   "nbconvert_exporter": "python",
   "pygments_lexer": "ipython3",
   "version": "3.11.7"
  }
 },
 "nbformat": 4,
 "nbformat_minor": 5
}
