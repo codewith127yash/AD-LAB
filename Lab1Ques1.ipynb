{
 "cells": [
  {
   "cell_type": "code",
   "execution_count": 5,
   "id": "3b9ed525-54d1-4bff-aa1f-d0032626f8d0",
   "metadata": {},
   "outputs": [],
   "source": [
    "import pandas as pd\n",
    "import numpy as np\n",
    "from sklearn.preprocessing import LabelEncoder,StandardScaler\n",
    "from sklearn.impute import SimpleImputer"
   ]
  },
  {
   "cell_type": "code",
   "execution_count": 6,
   "id": "19cd6be6-0739-45f8-b5d3-a72355e4e8e9",
   "metadata": {},
   "outputs": [],
   "source": [
    "data = {\n",
    "      'Age': [22,np.nan,24,30,25],\n",
    "      'Salary' : [50000 , 60000, np.nan , 70000 , 65000],\n",
    "      'Country' : ['USA' , 'Canada' , 'USA' , 'Canada', np.nan],\n",
    "      'Gender' : ['Male' , 'Female' , 'Male' , 'Female' , 'Female']\n",
    "       }"
   ]
  },
  {
   "cell_type": "code",
   "execution_count": 7,
   "id": "1ca695f9-305e-4012-bc75-e584b1e09297",
   "metadata": {},
   "outputs": [
    {
     "name": "stdout",
     "output_type": "stream",
     "text": [
      "Original DataFrame:\n",
      "    Age   Salary Country  Gender\n",
      "0  22.0  50000.0     USA    Male\n",
      "1   NaN  60000.0  Canada  Female\n",
      "2  24.0      NaN     USA    Male\n",
      "3  30.0  70000.0  Canada  Female\n",
      "4  25.0  65000.0     NaN  Female\n"
     ]
    }
   ],
   "source": [
    "df = pd.DataFrame(data)\n",
    "print(\"Original DataFrame:\")\n",
    "print(df)"
   ]
  },
  {
   "cell_type": "code",
   "execution_count": 13,
   "id": "4e82ba41-5704-4344-a5d8-a6f560d8a629",
   "metadata": {},
   "outputs": [
    {
     "name": "stdout",
     "output_type": "stream",
     "text": [
      "     Age   Salary Country  Gender\n",
      "0  22.00  50000.0     USA    Male\n",
      "1  25.25  60000.0  Canada  Female\n",
      "2  24.00  61250.0     USA    Male\n",
      "3  30.00  70000.0  Canada  Female\n",
      "4  25.00  65000.0     NaN  Female\n"
     ]
    }
   ],
   "source": [
    "imputer = SimpleImputer(strategy = 'mean')\n",
    "df[['Age','Salary']] = imputer.fit_transform(df[['Age','Salary']])\n",
    "print(df)"
   ]
  },
  {
   "cell_type": "code",
   "execution_count": 17,
   "id": "c3f06d4e-6744-48f7-a2c6-9878c994d652",
   "metadata": {},
   "outputs": [
    {
     "name": "stdout",
     "output_type": "stream",
     "text": [
      "     Age   Salary Country  Gender\n",
      "0  22.00  50000.0     USA    Male\n",
      "1  25.25  60000.0  Canada  Female\n",
      "2  24.00  61250.0     USA    Male\n",
      "3  30.00  70000.0  Canada  Female\n",
      "4  25.00  65000.0  Canada  Female\n"
     ]
    }
   ],
   "source": [
    "imputer_cat = SimpleImputer(strategy='most_frequent')\n",
    "df[['Country']] = imputer_cat.fit_transform(df[['Country']])\n",
    "print(df)"
   ]
  },
  {
   "cell_type": "code",
   "execution_count": 19,
   "id": "60a0d726-1f25-4581-bf09-4f62d9453690",
   "metadata": {},
   "outputs": [
    {
     "name": "stdout",
     "output_type": "stream",
     "text": [
      "     Age   Salary  Country  Gender\n",
      "0  22.00  50000.0        1       1\n",
      "1  25.25  60000.0        0       0\n",
      "2  24.00  61250.0        1       1\n",
      "3  30.00  70000.0        0       0\n",
      "4  25.00  65000.0        0       0\n"
     ]
    }
   ],
   "source": [
    "label_encoder = LabelEncoder()\n",
    "df['Gender'] = label_encoder.fit_transform(df['Gender'])\n",
    "df['Country'] = label_encoder.fit_transform(df['Country'])\n",
    "print(df)"
   ]
  },
  {
   "cell_type": "code",
   "execution_count": 23,
   "id": "a894fa35-184d-454a-8a62-e19513c98212",
   "metadata": {},
   "outputs": [
    {
     "name": "stdout",
     "output_type": "stream",
     "text": [
      "\n",
      "DataFrame after Feature Scaling:\n",
      "        Age    Salary  Country  Gender\n",
      "0 -1.232795 -1.700840        1       1\n",
      "1  0.000000 -0.188982        0       0\n",
      "2 -0.474152  0.000000        1       1\n",
      "3  1.801778  1.322876        0       0\n",
      "4 -0.094830  0.566947        0       0\n"
     ]
    }
   ],
   "source": [
    "scaler = StandardScaler()\n",
    "df[['Age' , 'Salary']] = scaler.fit_transform(df[['Age','Salary']])\n",
    "print(\"\\nDataFrame after Feature Scaling:\")\n",
    "print(df)"
   ]
  },
  {
   "cell_type": "code",
   "execution_count": null,
   "id": "5ba164e0-6a8b-4cce-a048-68c9425060b9",
   "metadata": {},
   "outputs": [],
   "source": []
  }
 ],
 "metadata": {
  "kernelspec": {
   "display_name": "Python 3 (ipykernel)",
   "language": "python",
   "name": "python3"
  },
  "language_info": {
   "codemirror_mode": {
    "name": "ipython",
    "version": 3
   },
   "file_extension": ".py",
   "mimetype": "text/x-python",
   "name": "python",
   "nbconvert_exporter": "python",
   "pygments_lexer": "ipython3",
   "version": "3.11.7"
  }
 },
 "nbformat": 4,
 "nbformat_minor": 5
}
